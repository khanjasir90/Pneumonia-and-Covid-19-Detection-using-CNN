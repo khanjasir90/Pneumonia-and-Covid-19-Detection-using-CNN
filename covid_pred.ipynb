{
 "cells": [
  {
   "cell_type": "code",
   "execution_count": 7,
   "metadata": {},
   "outputs": [],
   "source": [
    "from keras.models import Sequential\n",
    "from keras.layers import Convolution2D\n",
    "from keras.layers import MaxPooling2D\n",
    "from keras.layers import Flatten\n",
    "from keras.layers import Dense\n",
    "from keras.preprocessing.image import ImageDataGenerator"
   ]
  },
  {
   "cell_type": "code",
   "execution_count": 8,
   "metadata": {},
   "outputs": [
    {
     "name": "stdout",
     "output_type": "stream",
     "text": [
      "Found 5216 images belonging to 2 classes.\n",
      "Found 624 images belonging to 2 classes.\n"
     ]
    }
   ],
   "source": [
    "train_datagen = ImageDataGenerator(\n",
    "        rescale=1./255,\n",
    "        shear_range=0.2,\n",
    "        zoom_range=0.2,\n",
    "        horizontal_flip=True)\n",
    "test_datagen = ImageDataGenerator(rescale=1./255)\n",
    "training_set = train_datagen.flow_from_directory(\n",
    "        'C:\\\\Users\\\\Mohd Sarfaraz Khan\\\\Downloads\\\\archive (1)\\\\chest_xray\\\\train',\n",
    "        target_size=(64, 64),\n",
    "        batch_size=32,\n",
    "        class_mode='binary')\n",
    "test_set = test_datagen.flow_from_directory(\n",
    "        'C:\\\\Users\\\\Mohd Sarfaraz Khan\\\\Downloads\\\\archive (1)\\\\chest_xray\\\\test',\n",
    "        target_size=(64, 64),\n",
    "        batch_size=32,\n",
    "        class_mode='binary')\n"
   ]
  },
  {
   "cell_type": "code",
   "execution_count": 9,
   "metadata": {},
   "outputs": [],
   "source": [
    "classifier = Sequential()\n",
    "classifier.add( Convolution2D(32,3,3, padding= 'same',input_shape=(64,64,3), activation='relu'))\n",
    "classifier.add(MaxPooling2D(pool_size = (2,2)))\n",
    "classifier.add( Convolution2D(64,(3,3),padding= 'same',activation='relu'))\n",
    "classifier.add(MaxPooling2D(pool_size = (2,2)))\n",
    "classifier.add( Convolution2D(64,(3,3),padding= 'same',activation='relu'))\n",
    "classifier.add(MaxPooling2D(pool_size = (2,2)))\n",
    "classifier.add( Convolution2D(128,(3,3),padding= 'same',activation='relu'))\n",
    "classifier.add( Convolution2D(128,(3,3),padding= 'same',activation='relu'))\n",
    "classifier.add( Convolution2D(128,(3,3),padding= 'same',activation='relu'))\n",
    "classifier.add(MaxPooling2D(pool_size = (2,2)))\n",
    "\n",
    "\n",
    "\n",
    "\n",
    "classifier.add(Flatten())\n"
   ]
  },
  {
   "cell_type": "code",
   "execution_count": 10,
   "metadata": {},
   "outputs": [],
   "source": [
    "classifier.add(Dense(units = 256, activation = 'relu'))\n",
    "classifier.add(Dense(units = 1, activation = 'sigmoid'))"
   ]
  },
  {
   "cell_type": "code",
   "execution_count": 11,
   "metadata": {},
   "outputs": [],
   "source": [
    "classifier.compile(optimizer='adam', loss='binary_crossentropy', metrics = ['accuracy'])"
   ]
  },
  {
   "cell_type": "code",
   "execution_count": null,
   "metadata": {},
   "outputs": [
    {
     "name": "stdout",
     "output_type": "stream",
     "text": [
      "Epoch 1/50\n",
      "163/163 [==============================] - 236s 1s/step - loss: 0.5566 - accuracy: 0.7507 - val_loss: 0.4240 - val_accuracy: 0.8558\n",
      "Epoch 2/50\n",
      "163/163 [==============================] - 185s 1s/step - loss: 0.2412 - accuracy: 0.9015 - val_loss: 0.3590 - val_accuracy: 0.8654\n",
      "Epoch 3/50\n",
      "163/163 [==============================] - 200s 1s/step - loss: 0.1946 - accuracy: 0.9215 - val_loss: 0.4103 - val_accuracy: 0.8782\n",
      "Epoch 4/50\n",
      "163/163 [==============================] - 174s 1s/step - loss: 0.1801 - accuracy: 0.9320 - val_loss: 0.2955 - val_accuracy: 0.8910\n",
      "Epoch 5/50\n",
      "163/163 [==============================] - 149s 919ms/step - loss: 0.1727 - accuracy: 0.9298 - val_loss: 0.2597 - val_accuracy: 0.9006\n",
      "Epoch 6/50\n",
      "163/163 [==============================] - 150s 925ms/step - loss: 0.1719 - accuracy: 0.9284 - val_loss: 0.3598 - val_accuracy: 0.8606\n",
      "Epoch 7/50\n",
      "163/163 [==============================] - 116s 715ms/step - loss: 0.1422 - accuracy: 0.9486 - val_loss: 0.2488 - val_accuracy: 0.8990\n",
      "Epoch 8/50\n",
      "163/163 [==============================] - 99s 606ms/step - loss: 0.1411 - accuracy: 0.9461 - val_loss: 0.2708 - val_accuracy: 0.8894\n",
      "Epoch 9/50\n",
      "163/163 [==============================] - 225s 1s/step - loss: 0.1405 - accuracy: 0.9457 - val_loss: 0.3697 - val_accuracy: 0.8622\n",
      "Epoch 10/50\n",
      "163/163 [==============================] - 349s 2s/step - loss: 0.1507 - accuracy: 0.9384 - val_loss: 0.4582 - val_accuracy: 0.8574\n",
      "Epoch 11/50\n",
      "163/163 [==============================] - 270s 2s/step - loss: 0.1421 - accuracy: 0.9441 - val_loss: 0.4726 - val_accuracy: 0.8510\n",
      "Epoch 12/50\n",
      "163/163 [==============================] - 192s 1s/step - loss: 0.1477 - accuracy: 0.9375 - val_loss: 0.3072 - val_accuracy: 0.8750\n",
      "Epoch 13/50\n",
      "142/163 [=========================>....] - ETA: 27s - loss: 0.1348 - accuracy: 0.9480"
     ]
    }
   ],
   "source": [
    "results=classifier.fit_generator(\n",
    "        training_set,\n",
    "        epochs=50,\n",
    "        verbose=1,\n",
    "        validation_data=test_set)"
   ]
  },
  {
   "cell_type": "code",
   "execution_count": 7,
   "metadata": {},
   "outputs": [
    {
     "name": "stdout",
     "output_type": "stream",
     "text": [
      "{'NORMAL': 0, 'PNEUMONIA': 1}\n"
     ]
    }
   ],
   "source": [
    "import numpy as np\n",
    "from keras.preprocessing import image\n",
    "\n",
    "test_image = image.load_img(r'C:\\Users\\Mohd Sarfaraz Khan\\Downloads\\archive (1)\\chest_xray\\test\\PNEUMONIA\\person1_virus_7.jpeg', target_size = (64, 64))\n",
    "test_image = image.img_to_array(test_image)\n",
    "test_image = np.expand_dims(test_image, axis = 0)\n",
    "result = classifier.predict(test_image)\n",
    "print(training_set.class_indices)"
   ]
  },
  {
   "cell_type": "code",
   "execution_count": 8,
   "metadata": {},
   "outputs": [
    {
     "data": {
      "text/plain": [
       "0.0"
      ]
     },
     "execution_count": 8,
     "metadata": {},
     "output_type": "execute_result"
    }
   ],
   "source": [
    "result[0][0]"
   ]
  },
  {
   "cell_type": "code",
   "execution_count": null,
   "metadata": {},
   "outputs": [],
   "source": [
    "classifier.save(\"model_covid.h5\")"
   ]
  }
 ],
 "metadata": {
  "kernelspec": {
   "display_name": "Python 3",
   "language": "python",
   "name": "python3"
  },
  "language_info": {
   "codemirror_mode": {
    "name": "ipython",
    "version": 3
   },
   "file_extension": ".py",
   "mimetype": "text/x-python",
   "name": "python",
   "nbconvert_exporter": "python",
   "pygments_lexer": "ipython3",
   "version": "3.8.5"
  }
 },
 "nbformat": 4,
 "nbformat_minor": 4
}
